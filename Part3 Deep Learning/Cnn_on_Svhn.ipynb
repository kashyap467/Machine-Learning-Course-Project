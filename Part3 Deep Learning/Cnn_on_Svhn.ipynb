{
  "nbformat": 4,
  "nbformat_minor": 0,
  "metadata": {
    "colab": {
      "name": "Cnn_on_Svhn.ipynb",
      "provenance": [],
      "collapsed_sections": []
    },
    "kernelspec": {
      "name": "python3",
      "display_name": "Python 3"
    },
    "language_info": {
      "name": "python"
    },
    "accelerator": "GPU"
  },
  "cells": [
    {
      "cell_type": "code",
      "metadata": {
        "id": "KIjrdOqxFcBc",
        "colab": {
          "base_uri": "https://localhost:8080/"
        },
        "outputId": "77b38d55-2263-40a6-e10d-549abb08a515"
      },
      "source": [
        "import keras\n",
        "from keras.models import Sequential\n",
        "from keras.layers import Conv2D, MaxPooling2D\n",
        "from keras.layers import Dense, Dropout, Flatten\n",
        "from tensorflow.keras.utils import to_categorical\n",
        "import numpy as np\n",
        "import matplotlib.pyplot as plt\n",
        "from scipy.io import loadmat\n",
        "from google.colab import drive\n",
        "\n",
        "\n",
        "drive.mount('/content/drive')   # mount drive to load dataset from drive\n",
        "batch_size = 64      # samples are fed in batches of this size per epoch\n",
        "num_epochs = 20      # total no of epochs the model training is run for\n",
        "learn_rate = 0.01    # learning rate η used in SGD to update weights\n",
        "# num_classes = 10"
      ],
      "execution_count": 2,
      "outputs": [
        {
          "output_type": "stream",
          "name": "stdout",
          "text": [
            "Mounted at /content/drive\n"
          ]
        }
      ]
    },
    {
      "cell_type": "code",
      "metadata": {
        "id": "yS8rqCoNKjVG"
      },
      "source": [
        "# Load Training Data\n",
        "trData = loadmat('/content/drive/My Drive/DataSets/train_32x32.mat')\n",
        "trX = np.array(trData['X'])\n",
        "trY = np.array(trData['y'])\n",
        "\n",
        "input_shape = trX.shape[1:]   # input image shape\n",
        "num_classes = len(set(trY.flat))  # number of class labels\n",
        "\n",
        "# Data Normalization and One-Hot Encoding of Training Data\n",
        "trX = (trX - trX.min()) / (trX.max() - trX.min())\n",
        "trY = to_categorical(trY, num_classes, dtype='int')\n",
        "\n",
        "# Load Testing Data\n",
        "tsData = loadmat('/content/drive/My Drive/DataSets/test_32x32.mat')\n",
        "tsX = np.array(tsData['X'])\n",
        "tsY = np.array(tsData['y'])\n",
        "\n",
        "# Data Normalization and One-Hot Encoding of Testing Data \n",
        "tsX = (tsX - tsX.min()) / (tsX.max() - tsX.min())\n",
        "tsY = to_categorical(tsY, num_classes, dtype='int')\n"
      ],
      "execution_count": 3,
      "outputs": []
    },
    {
      "cell_type": "code",
      "metadata": {
        "id": "pNbFBWL0GjG9"
      },
      "source": [
        "# Building the network architecture\n",
        "model = Sequential([\n",
        "    Conv2D(filters=64, kernel_size=(5,5),           # Conv2D layer with 128 kernels (size: 5x5)\n",
        "                 padding='same', activation='relu',  \n",
        "                 input_shape=input_shape), \n",
        "    MaxPooling2D(pool_size=(2,2), strides=(2,2)),   # MaxPooling2D layer (size: 2x2)\n",
        "    Conv2D(filters=64, kernel_size=(5,5),           # Conv2D layer with 128 kernels (size: 5x5)\n",
        "                 padding='same', activation='relu'), \n",
        "    MaxPooling2D(pool_size=(2,2), strides=(2,2)),   # MaxPooling2D layer (size: 2x2)\n",
        "    Conv2D(filters=128, kernel_size=(5,5),          # Conv2D layer with 128 kernels (size: 5x5)\n",
        "                 padding='same', activation='relu'), \n",
        "    Flatten(),        # To change from image to vector input\n",
        "    # Dropout(0.2),  \n",
        "    Dense(3072, activation='relu'),       # Fully Connected layer with 3072 units\n",
        "    # Dropout(0.2), \n",
        "    Dense(2048, activation='relu'),       # Fully Connected layer with 2048 units\n",
        "    Dense(num_classes, activation='softmax')        # Output layer\n",
        "])"
      ],
      "execution_count": 4,
      "outputs": []
    },
    {
      "cell_type": "code",
      "metadata": {
        "id": "A6kSesLzImWq",
        "colab": {
          "base_uri": "https://localhost:8080/"
        },
        "outputId": "8004d256-9b7f-41db-ebdb-40c3c493206e"
      },
      "source": [
        "# Setting Loss function and Optimization method\n",
        "from tensorflow.keras import optimizers\n",
        "model.compile(loss = keras.losses.categorical_crossentropy,\n",
        "              optimizer = optimizers.SGD(learning_rate = learn_rate), \n",
        "              metrics = ['accuracy'])\n",
        "\n",
        "# model.summary()\n",
        "\n",
        "# Training the network with Train Data and Testing its performance with Test Data\n",
        "training = model.fit(trX, trY, batch_size=batch_size, epochs=num_epochs, verbose=1, validation_data=(tsX, tsY))"
      ],
      "execution_count": 5,
      "outputs": [
        {
          "output_type": "stream",
          "name": "stderr",
          "text": [
            "/usr/local/lib/python3.7/dist-packages/keras/optimizer_v2/optimizer_v2.py:356: UserWarning: The `lr` argument is deprecated, use `learning_rate` instead.\n",
            "  \"The `lr` argument is deprecated, use `learning_rate` instead.\")\n"
          ]
        },
        {
          "output_type": "stream",
          "name": "stdout",
          "text": [
            "Epoch 1/20\n",
            "1145/1145 [==============================] - 64s 29ms/step - loss: 2.2220 - accuracy: 0.1956 - val_loss: 2.1525 - val_accuracy: 0.2094\n",
            "Epoch 2/20\n",
            "1145/1145 [==============================] - 31s 27ms/step - loss: 1.4295 - accuracy: 0.5338 - val_loss: 0.7384 - val_accuracy: 0.7916\n",
            "Epoch 3/20\n",
            "1145/1145 [==============================] - 31s 27ms/step - loss: 0.6457 - accuracy: 0.8114 - val_loss: 0.6147 - val_accuracy: 0.8200\n",
            "Epoch 4/20\n",
            "1145/1145 [==============================] - 31s 27ms/step - loss: 0.5013 - accuracy: 0.8557 - val_loss: 0.4987 - val_accuracy: 0.8607\n",
            "Epoch 5/20\n",
            "1145/1145 [==============================] - 31s 27ms/step - loss: 0.4262 - accuracy: 0.8771 - val_loss: 0.4342 - val_accuracy: 0.8772\n",
            "Epoch 6/20\n",
            "1145/1145 [==============================] - 31s 27ms/step - loss: 0.3723 - accuracy: 0.8921 - val_loss: 0.4343 - val_accuracy: 0.8741\n",
            "Epoch 7/20\n",
            "1145/1145 [==============================] - 31s 27ms/step - loss: 0.3318 - accuracy: 0.9043 - val_loss: 0.4199 - val_accuracy: 0.8773\n",
            "Epoch 8/20\n",
            "1145/1145 [==============================] - 31s 27ms/step - loss: 0.2979 - accuracy: 0.9134 - val_loss: 0.3868 - val_accuracy: 0.8900\n",
            "Epoch 9/20\n",
            "1145/1145 [==============================] - 31s 27ms/step - loss: 0.2676 - accuracy: 0.9226 - val_loss: 0.3674 - val_accuracy: 0.8968\n",
            "Epoch 10/20\n",
            "1145/1145 [==============================] - 31s 27ms/step - loss: 0.2396 - accuracy: 0.9315 - val_loss: 0.4070 - val_accuracy: 0.8834\n",
            "Epoch 11/20\n",
            "1145/1145 [==============================] - 31s 27ms/step - loss: 0.2138 - accuracy: 0.9390 - val_loss: 0.3807 - val_accuracy: 0.8934\n",
            "Epoch 12/20\n",
            "1145/1145 [==============================] - 31s 27ms/step - loss: 0.1882 - accuracy: 0.9469 - val_loss: 0.3662 - val_accuracy: 0.8983\n",
            "Epoch 13/20\n",
            "1145/1145 [==============================] - 31s 27ms/step - loss: 0.1667 - accuracy: 0.9532 - val_loss: 0.3571 - val_accuracy: 0.9042\n",
            "Epoch 14/20\n",
            "1145/1145 [==============================] - 31s 27ms/step - loss: 0.1460 - accuracy: 0.9593 - val_loss: 0.3747 - val_accuracy: 0.8992\n",
            "Epoch 15/20\n",
            "1145/1145 [==============================] - 31s 27ms/step - loss: 0.1250 - accuracy: 0.9658 - val_loss: 0.3956 - val_accuracy: 0.9017\n",
            "Epoch 16/20\n",
            "1145/1145 [==============================] - 31s 27ms/step - loss: 0.1064 - accuracy: 0.9707 - val_loss: 0.4002 - val_accuracy: 0.9017\n",
            "Epoch 17/20\n",
            "1145/1145 [==============================] - 33s 29ms/step - loss: 0.0890 - accuracy: 0.9761 - val_loss: 0.4187 - val_accuracy: 0.8992\n",
            "Epoch 18/20\n",
            "1145/1145 [==============================] - 31s 27ms/step - loss: 0.0743 - accuracy: 0.9799 - val_loss: 0.4289 - val_accuracy: 0.9014\n",
            "Epoch 19/20\n",
            "1145/1145 [==============================] - 31s 27ms/step - loss: 0.0596 - accuracy: 0.9849 - val_loss: 0.4635 - val_accuracy: 0.8977\n",
            "Epoch 20/20\n",
            "1145/1145 [==============================] - 31s 27ms/step - loss: 0.0509 - accuracy: 0.9872 - val_loss: 0.4464 - val_accuracy: 0.9009\n"
          ]
        }
      ]
    },
    {
      "cell_type": "code",
      "metadata": {
        "id": "W-CDrTWBXN2p"
      },
      "source": [
        "# Get training accuracy and loss\n",
        "train_acc = training.history['accuracy']\n",
        "val_acc = training.history['val_accuracy']\n",
        "\n",
        "# Get testing accuracy and loss\n",
        "train_loss = training.history['loss']\n",
        "val_loss = training.history['val_loss']"
      ],
      "execution_count": 6,
      "outputs": []
    },
    {
      "cell_type": "code",
      "metadata": {
        "colab": {
          "base_uri": "https://localhost:8080/",
          "height": 350
        },
        "id": "g79zseIbZMO8",
        "outputId": "6fdf7779-4c2a-4a9f-9e11-080fd432b732"
      },
      "source": [
        "# Plot epochs vs. accuracy and loss graphs for both training and testing\n",
        "plt.figure(figsize=(10, 5))\n",
        "\n",
        "epochs_range = range(1, num_epochs+1)\n",
        "\n",
        "# Accuracy Graphs\n",
        "plt.subplot(1, 2, 1)\n",
        "plt.plot(epochs_range, train_acc, label='Training Accuracy')\n",
        "plt.plot(epochs_range, val_acc, label='Testing Accuracy')\n",
        "plt.legend()\n",
        "plt.grid()\n",
        "plt.xlabel('Epochs')\n",
        "plt.ylabel('Accuracy')\n",
        "plt.title('Epochs vs Training and Testing Accuracy')\n",
        "\n",
        "# Loss Graphs \n",
        "plt.subplot(1, 2, 2)\n",
        "plt.plot(epochs_range, train_loss, label='Training Loss')\n",
        "plt.plot(epochs_range, val_loss, label='Testing Loss')\n",
        "plt.legend()\n",
        "plt.grid()\n",
        "plt.xlabel('Epochs')\n",
        "plt.ylabel('Loss')\n",
        "plt.title('Epochs vs Training and Testing Loss')\n",
        "\n",
        "plt.show()"
      ],
      "execution_count": 7,
      "outputs": [
        {
          "output_type": "display_data",
          "data": {
            "image/png": "[encoded data removed]",
            "text/plain": [
              "<Figure size 720x360 with 2 Axes>"
            ]
          },
          "metadata": {
            "needs_background": "light"
          }
        }
      ]
    },
    {
      "cell_type": "code",
      "metadata": {
        "id": "JmrhaXLhcCpr",
        "colab": {
          "base_uri": "https://localhost:8080/"
        },
        "outputId": "3f61f9b6-39a4-492b-b515-8dae8dd9b163"
      },
      "source": [
        "# Evaluate the network performance on Test Data and print loss, accuracy\n",
        "test_loss, test_acc = model.evaluate(x=tsX, y=tsY, verbose=0)\n",
        "print('Test loss is: {:0.4f} \\nTest accuracy is: {:0.2f} %'.format(test_loss, test_acc*100))"
      ],
      "execution_count": 8,
      "outputs": [
        {
          "output_type": "stream",
          "name": "stdout",
          "text": [
            "Test loss is: 0.4464 \n",
            "Test accuracy is: 90.09 %\n"
          ]
        }
      ]
    }
  ]
}